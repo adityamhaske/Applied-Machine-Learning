{
  "nbformat": 4,
  "nbformat_minor": 0,
  "metadata": {
    "colab": {
      "provenance": [],
      "collapsed_sections": []
    },
    "kernelspec": {
      "name": "python3",
      "display_name": "Python 3"
    },
    "language_info": {
      "name": "python"
    }
  },
  "cells": [
    {
      "cell_type": "markdown",
      "source": [
        "##Q1 "
      ],
      "metadata": {
        "id": "f63SVCK-m2LO"
      }
    },
    {
      "cell_type": "code",
      "source": [
        "import numpy as np\n",
        "import pandas as pd\n",
        "\n",
        "import random\n",
        "from sklearn.metrics import classification_report"
      ],
      "metadata": {
        "id": "tj8bDN0Cm1y9"
      },
      "execution_count": null,
      "outputs": []
    },
    {
      "cell_type": "code",
      "source": [
        "data = pd.read_csv('breast-cancer-wisconsin.data', header = None)\n",
        "data.head()"
      ],
      "metadata": {
        "colab": {
          "base_uri": "https://localhost:8080/",
          "height": 206
        },
        "id": "ikViIMW1q14V",
        "outputId": "c9e601e7-b4dc-472a-f163-fef1ae2170a6"
      },
      "execution_count": null,
      "outputs": [
        {
          "output_type": "execute_result",
          "data": {
            "text/plain": [
              "        0   1   2   3   4   5   6   7   8   9   10\n",
              "0  1000025   5   1   1   1   2   1   3   1   1   2\n",
              "1  1002945   5   4   4   5   7  10   3   2   1   2\n",
              "2  1015425   3   1   1   1   2   2   3   1   1   2\n",
              "3  1016277   6   8   8   1   3   4   3   7   1   2\n",
              "4  1017023   4   1   1   3   2   1   3   1   1   2"
            ],
            "text/html": [
              "\n",
              "  <div id=\"df-4caa7ff1-74bd-4d46-be4e-51edb7be8b93\">\n",
              "    <div class=\"colab-df-container\">\n",
              "      <div>\n",
              "<style scoped>\n",
              "    .dataframe tbody tr th:only-of-type {\n",
              "        vertical-align: middle;\n",
              "    }\n",
              "\n",
              "    .dataframe tbody tr th {\n",
              "        vertical-align: top;\n",
              "    }\n",
              "\n",
              "    .dataframe thead th {\n",
              "        text-align: right;\n",
              "    }\n",
              "</style>\n",
              "<table border=\"1\" class=\"dataframe\">\n",
              "  <thead>\n",
              "    <tr style=\"text-align: right;\">\n",
              "      <th></th>\n",
              "      <th>0</th>\n",
              "      <th>1</th>\n",
              "      <th>2</th>\n",
              "      <th>3</th>\n",
              "      <th>4</th>\n",
              "      <th>5</th>\n",
              "      <th>6</th>\n",
              "      <th>7</th>\n",
              "      <th>8</th>\n",
              "      <th>9</th>\n",
              "      <th>10</th>\n",
              "    </tr>\n",
              "  </thead>\n",
              "  <tbody>\n",
              "    <tr>\n",
              "      <th>0</th>\n",
              "      <td>1000025</td>\n",
              "      <td>5</td>\n",
              "      <td>1</td>\n",
              "      <td>1</td>\n",
              "      <td>1</td>\n",
              "      <td>2</td>\n",
              "      <td>1</td>\n",
              "      <td>3</td>\n",
              "      <td>1</td>\n",
              "      <td>1</td>\n",
              "      <td>2</td>\n",
              "    </tr>\n",
              "    <tr>\n",
              "      <th>1</th>\n",
              "      <td>1002945</td>\n",
              "      <td>5</td>\n",
              "      <td>4</td>\n",
              "      <td>4</td>\n",
              "      <td>5</td>\n",
              "      <td>7</td>\n",
              "      <td>10</td>\n",
              "      <td>3</td>\n",
              "      <td>2</td>\n",
              "      <td>1</td>\n",
              "      <td>2</td>\n",
              "    </tr>\n",
              "    <tr>\n",
              "      <th>2</th>\n",
              "      <td>1015425</td>\n",
              "      <td>3</td>\n",
              "      <td>1</td>\n",
              "      <td>1</td>\n",
              "      <td>1</td>\n",
              "      <td>2</td>\n",
              "      <td>2</td>\n",
              "      <td>3</td>\n",
              "      <td>1</td>\n",
              "      <td>1</td>\n",
              "      <td>2</td>\n",
              "    </tr>\n",
              "    <tr>\n",
              "      <th>3</th>\n",
              "      <td>1016277</td>\n",
              "      <td>6</td>\n",
              "      <td>8</td>\n",
              "      <td>8</td>\n",
              "      <td>1</td>\n",
              "      <td>3</td>\n",
              "      <td>4</td>\n",
              "      <td>3</td>\n",
              "      <td>7</td>\n",
              "      <td>1</td>\n",
              "      <td>2</td>\n",
              "    </tr>\n",
              "    <tr>\n",
              "      <th>4</th>\n",
              "      <td>1017023</td>\n",
              "      <td>4</td>\n",
              "      <td>1</td>\n",
              "      <td>1</td>\n",
              "      <td>3</td>\n",
              "      <td>2</td>\n",
              "      <td>1</td>\n",
              "      <td>3</td>\n",
              "      <td>1</td>\n",
              "      <td>1</td>\n",
              "      <td>2</td>\n",
              "    </tr>\n",
              "  </tbody>\n",
              "</table>\n",
              "</div>\n",
              "      <button class=\"colab-df-convert\" onclick=\"convertToInteractive('df-4caa7ff1-74bd-4d46-be4e-51edb7be8b93')\"\n",
              "              title=\"Convert this dataframe to an interactive table.\"\n",
              "              style=\"display:none;\">\n",
              "        \n",
              "  <svg xmlns=\"http://www.w3.org/2000/svg\" height=\"24px\"viewBox=\"0 0 24 24\"\n",
              "       width=\"24px\">\n",
              "    <path d=\"M0 0h24v24H0V0z\" fill=\"none\"/>\n",
              "    <path d=\"M18.56 5.44l.94 2.06.94-2.06 2.06-.94-2.06-.94-.94-2.06-.94 2.06-2.06.94zm-11 1L8.5 8.5l.94-2.06 2.06-.94-2.06-.94L8.5 2.5l-.94 2.06-2.06.94zm10 10l.94 2.06.94-2.06 2.06-.94-2.06-.94-.94-2.06-.94 2.06-2.06.94z\"/><path d=\"M17.41 7.96l-1.37-1.37c-.4-.4-.92-.59-1.43-.59-.52 0-1.04.2-1.43.59L10.3 9.45l-7.72 7.72c-.78.78-.78 2.05 0 2.83L4 21.41c.39.39.9.59 1.41.59.51 0 1.02-.2 1.41-.59l7.78-7.78 2.81-2.81c.8-.78.8-2.07 0-2.86zM5.41 20L4 18.59l7.72-7.72 1.47 1.35L5.41 20z\"/>\n",
              "  </svg>\n",
              "      </button>\n",
              "      \n",
              "  <style>\n",
              "    .colab-df-container {\n",
              "      display:flex;\n",
              "      flex-wrap:wrap;\n",
              "      gap: 12px;\n",
              "    }\n",
              "\n",
              "    .colab-df-convert {\n",
              "      background-color: #E8F0FE;\n",
              "      border: none;\n",
              "      border-radius: 50%;\n",
              "      cursor: pointer;\n",
              "      display: none;\n",
              "      fill: #1967D2;\n",
              "      height: 32px;\n",
              "      padding: 0 0 0 0;\n",
              "      width: 32px;\n",
              "    }\n",
              "\n",
              "    .colab-df-convert:hover {\n",
              "      background-color: #E2EBFA;\n",
              "      box-shadow: 0px 1px 2px rgba(60, 64, 67, 0.3), 0px 1px 3px 1px rgba(60, 64, 67, 0.15);\n",
              "      fill: #174EA6;\n",
              "    }\n",
              "\n",
              "    [theme=dark] .colab-df-convert {\n",
              "      background-color: #3B4455;\n",
              "      fill: #D2E3FC;\n",
              "    }\n",
              "\n",
              "    [theme=dark] .colab-df-convert:hover {\n",
              "      background-color: #434B5C;\n",
              "      box-shadow: 0px 1px 3px 1px rgba(0, 0, 0, 0.15);\n",
              "      filter: drop-shadow(0px 1px 2px rgba(0, 0, 0, 0.3));\n",
              "      fill: #FFFFFF;\n",
              "    }\n",
              "  </style>\n",
              "\n",
              "      <script>\n",
              "        const buttonEl =\n",
              "          document.querySelector('#df-4caa7ff1-74bd-4d46-be4e-51edb7be8b93 button.colab-df-convert');\n",
              "        buttonEl.style.display =\n",
              "          google.colab.kernel.accessAllowed ? 'block' : 'none';\n",
              "\n",
              "        async function convertToInteractive(key) {\n",
              "          const element = document.querySelector('#df-4caa7ff1-74bd-4d46-be4e-51edb7be8b93');\n",
              "          const dataTable =\n",
              "            await google.colab.kernel.invokeFunction('convertToInteractive',\n",
              "                                                     [key], {});\n",
              "          if (!dataTable) return;\n",
              "\n",
              "          const docLinkHtml = 'Like what you see? Visit the ' +\n",
              "            '<a target=\"_blank\" href=https://colab.research.google.com/notebooks/data_table.ipynb>data table notebook</a>'\n",
              "            + ' to learn more about interactive tables.';\n",
              "          element.innerHTML = '';\n",
              "          dataTable['output_type'] = 'display_data';\n",
              "          await google.colab.output.renderOutput(dataTable, element);\n",
              "          const docLink = document.createElement('div');\n",
              "          docLink.innerHTML = docLinkHtml;\n",
              "          element.appendChild(docLink);\n",
              "        }\n",
              "      </script>\n",
              "    </div>\n",
              "  </div>\n",
              "  "
            ]
          },
          "metadata": {},
          "execution_count": 209
        }
      ]
    },
    {
      "cell_type": "code",
      "source": [
        "data.info()"
      ],
      "metadata": {
        "colab": {
          "base_uri": "https://localhost:8080/"
        },
        "id": "HwQSCdlUq10o",
        "outputId": "32726741-0ad8-4130-be09-319d924b514d"
      },
      "execution_count": null,
      "outputs": [
        {
          "output_type": "stream",
          "name": "stdout",
          "text": [
            "<class 'pandas.core.frame.DataFrame'>\n",
            "RangeIndex: 699 entries, 0 to 698\n",
            "Data columns (total 11 columns):\n",
            " #   Column  Non-Null Count  Dtype \n",
            "---  ------  --------------  ----- \n",
            " 0   0       699 non-null    int64 \n",
            " 1   1       699 non-null    int64 \n",
            " 2   2       699 non-null    int64 \n",
            " 3   3       699 non-null    int64 \n",
            " 4   4       699 non-null    int64 \n",
            " 5   5       699 non-null    int64 \n",
            " 6   6       699 non-null    object\n",
            " 7   7       699 non-null    int64 \n",
            " 8   8       699 non-null    int64 \n",
            " 9   9       699 non-null    int64 \n",
            " 10  10      699 non-null    int64 \n",
            "dtypes: int64(10), object(1)\n",
            "memory usage: 60.2+ KB\n"
          ]
        }
      ]
    },
    {
      "cell_type": "code",
      "source": [
        "# some values in column 6 contain \"?\" values, removing such rows\n",
        "data[data.eq(\"?\").any(1)]"
      ],
      "metadata": {
        "colab": {
          "base_uri": "https://localhost:8080/",
          "height": 551
        },
        "id": "ffAIsC9grN9K",
        "outputId": "069d0808-0acc-408a-d7c4-5e282a9924c6"
      },
      "execution_count": null,
      "outputs": [
        {
          "output_type": "execute_result",
          "data": {
            "text/plain": [
              "          0   1   2   3   4   5  6   7   8   9   10\n",
              "23   1057013   8   4   5   1   2  ?   7   3   1   4\n",
              "40   1096800   6   6   6   9   6  ?   7   8   1   2\n",
              "139  1183246   1   1   1   1   1  ?   2   1   1   2\n",
              "145  1184840   1   1   3   1   2  ?   2   1   1   2\n",
              "158  1193683   1   1   2   1   3  ?   1   1   1   2\n",
              "164  1197510   5   1   1   1   2  ?   3   1   1   2\n",
              "235  1241232   3   1   4   1   2  ?   3   1   1   2\n",
              "249   169356   3   1   1   1   2  ?   3   1   1   2\n",
              "275   432809   3   1   3   1   2  ?   2   1   1   2\n",
              "292   563649   8   8   8   1   2  ?   6  10   1   4\n",
              "294   606140   1   1   1   1   2  ?   2   1   1   2\n",
              "297    61634   5   4   3   1   2  ?   2   3   1   2\n",
              "315   704168   4   6   5   6   7  ?   4   9   1   2\n",
              "321   733639   3   1   1   1   2  ?   3   1   1   2\n",
              "411  1238464   1   1   1   1   1  ?   2   1   1   2\n",
              "617  1057067   1   1   1   1   1  ?   1   1   1   2"
            ],
            "text/html": [
              "\n",
              "  <div id=\"df-bb8f66e1-3b9e-4694-b7ee-2054cbdcdba6\">\n",
              "    <div class=\"colab-df-container\">\n",
              "      <div>\n",
              "<style scoped>\n",
              "    .dataframe tbody tr th:only-of-type {\n",
              "        vertical-align: middle;\n",
              "    }\n",
              "\n",
              "    .dataframe tbody tr th {\n",
              "        vertical-align: top;\n",
              "    }\n",
              "\n",
              "    .dataframe thead th {\n",
              "        text-align: right;\n",
              "    }\n",
              "</style>\n",
              "<table border=\"1\" class=\"dataframe\">\n",
              "  <thead>\n",
              "    <tr style=\"text-align: right;\">\n",
              "      <th></th>\n",
              "      <th>0</th>\n",
              "      <th>1</th>\n",
              "      <th>2</th>\n",
              "      <th>3</th>\n",
              "      <th>4</th>\n",
              "      <th>5</th>\n",
              "      <th>6</th>\n",
              "      <th>7</th>\n",
              "      <th>8</th>\n",
              "      <th>9</th>\n",
              "      <th>10</th>\n",
              "    </tr>\n",
              "  </thead>\n",
              "  <tbody>\n",
              "    <tr>\n",
              "      <th>23</th>\n",
              "      <td>1057013</td>\n",
              "      <td>8</td>\n",
              "      <td>4</td>\n",
              "      <td>5</td>\n",
              "      <td>1</td>\n",
              "      <td>2</td>\n",
              "      <td>?</td>\n",
              "      <td>7</td>\n",
              "      <td>3</td>\n",
              "      <td>1</td>\n",
              "      <td>4</td>\n",
              "    </tr>\n",
              "    <tr>\n",
              "      <th>40</th>\n",
              "      <td>1096800</td>\n",
              "      <td>6</td>\n",
              "      <td>6</td>\n",
              "      <td>6</td>\n",
              "      <td>9</td>\n",
              "      <td>6</td>\n",
              "      <td>?</td>\n",
              "      <td>7</td>\n",
              "      <td>8</td>\n",
              "      <td>1</td>\n",
              "      <td>2</td>\n",
              "    </tr>\n",
              "    <tr>\n",
              "      <th>139</th>\n",
              "      <td>1183246</td>\n",
              "      <td>1</td>\n",
              "      <td>1</td>\n",
              "      <td>1</td>\n",
              "      <td>1</td>\n",
              "      <td>1</td>\n",
              "      <td>?</td>\n",
              "      <td>2</td>\n",
              "      <td>1</td>\n",
              "      <td>1</td>\n",
              "      <td>2</td>\n",
              "    </tr>\n",
              "    <tr>\n",
              "      <th>145</th>\n",
              "      <td>1184840</td>\n",
              "      <td>1</td>\n",
              "      <td>1</td>\n",
              "      <td>3</td>\n",
              "      <td>1</td>\n",
              "      <td>2</td>\n",
              "      <td>?</td>\n",
              "      <td>2</td>\n",
              "      <td>1</td>\n",
              "      <td>1</td>\n",
              "      <td>2</td>\n",
              "    </tr>\n",
              "    <tr>\n",
              "      <th>158</th>\n",
              "      <td>1193683</td>\n",
              "      <td>1</td>\n",
              "      <td>1</td>\n",
              "      <td>2</td>\n",
              "      <td>1</td>\n",
              "      <td>3</td>\n",
              "      <td>?</td>\n",
              "      <td>1</td>\n",
              "      <td>1</td>\n",
              "      <td>1</td>\n",
              "      <td>2</td>\n",
              "    </tr>\n",
              "    <tr>\n",
              "      <th>164</th>\n",
              "      <td>1197510</td>\n",
              "      <td>5</td>\n",
              "      <td>1</td>\n",
              "      <td>1</td>\n",
              "      <td>1</td>\n",
              "      <td>2</td>\n",
              "      <td>?</td>\n",
              "      <td>3</td>\n",
              "      <td>1</td>\n",
              "      <td>1</td>\n",
              "      <td>2</td>\n",
              "    </tr>\n",
              "    <tr>\n",
              "      <th>235</th>\n",
              "      <td>1241232</td>\n",
              "      <td>3</td>\n",
              "      <td>1</td>\n",
              "      <td>4</td>\n",
              "      <td>1</td>\n",
              "      <td>2</td>\n",
              "      <td>?</td>\n",
              "      <td>3</td>\n",
              "      <td>1</td>\n",
              "      <td>1</td>\n",
              "      <td>2</td>\n",
              "    </tr>\n",
              "    <tr>\n",
              "      <th>249</th>\n",
              "      <td>169356</td>\n",
              "      <td>3</td>\n",
              "      <td>1</td>\n",
              "      <td>1</td>\n",
              "      <td>1</td>\n",
              "      <td>2</td>\n",
              "      <td>?</td>\n",
              "      <td>3</td>\n",
              "      <td>1</td>\n",
              "      <td>1</td>\n",
              "      <td>2</td>\n",
              "    </tr>\n",
              "    <tr>\n",
              "      <th>275</th>\n",
              "      <td>432809</td>\n",
              "      <td>3</td>\n",
              "      <td>1</td>\n",
              "      <td>3</td>\n",
              "      <td>1</td>\n",
              "      <td>2</td>\n",
              "      <td>?</td>\n",
              "      <td>2</td>\n",
              "      <td>1</td>\n",
              "      <td>1</td>\n",
              "      <td>2</td>\n",
              "    </tr>\n",
              "    <tr>\n",
              "      <th>292</th>\n",
              "      <td>563649</td>\n",
              "      <td>8</td>\n",
              "      <td>8</td>\n",
              "      <td>8</td>\n",
              "      <td>1</td>\n",
              "      <td>2</td>\n",
              "      <td>?</td>\n",
              "      <td>6</td>\n",
              "      <td>10</td>\n",
              "      <td>1</td>\n",
              "      <td>4</td>\n",
              "    </tr>\n",
              "    <tr>\n",
              "      <th>294</th>\n",
              "      <td>606140</td>\n",
              "      <td>1</td>\n",
              "      <td>1</td>\n",
              "      <td>1</td>\n",
              "      <td>1</td>\n",
              "      <td>2</td>\n",
              "      <td>?</td>\n",
              "      <td>2</td>\n",
              "      <td>1</td>\n",
              "      <td>1</td>\n",
              "      <td>2</td>\n",
              "    </tr>\n",
              "    <tr>\n",
              "      <th>297</th>\n",
              "      <td>61634</td>\n",
              "      <td>5</td>\n",
              "      <td>4</td>\n",
              "      <td>3</td>\n",
              "      <td>1</td>\n",
              "      <td>2</td>\n",
              "      <td>?</td>\n",
              "      <td>2</td>\n",
              "      <td>3</td>\n",
              "      <td>1</td>\n",
              "      <td>2</td>\n",
              "    </tr>\n",
              "    <tr>\n",
              "      <th>315</th>\n",
              "      <td>704168</td>\n",
              "      <td>4</td>\n",
              "      <td>6</td>\n",
              "      <td>5</td>\n",
              "      <td>6</td>\n",
              "      <td>7</td>\n",
              "      <td>?</td>\n",
              "      <td>4</td>\n",
              "      <td>9</td>\n",
              "      <td>1</td>\n",
              "      <td>2</td>\n",
              "    </tr>\n",
              "    <tr>\n",
              "      <th>321</th>\n",
              "      <td>733639</td>\n",
              "      <td>3</td>\n",
              "      <td>1</td>\n",
              "      <td>1</td>\n",
              "      <td>1</td>\n",
              "      <td>2</td>\n",
              "      <td>?</td>\n",
              "      <td>3</td>\n",
              "      <td>1</td>\n",
              "      <td>1</td>\n",
              "      <td>2</td>\n",
              "    </tr>\n",
              "    <tr>\n",
              "      <th>411</th>\n",
              "      <td>1238464</td>\n",
              "      <td>1</td>\n",
              "      <td>1</td>\n",
              "      <td>1</td>\n",
              "      <td>1</td>\n",
              "      <td>1</td>\n",
              "      <td>?</td>\n",
              "      <td>2</td>\n",
              "      <td>1</td>\n",
              "      <td>1</td>\n",
              "      <td>2</td>\n",
              "    </tr>\n",
              "    <tr>\n",
              "      <th>617</th>\n",
              "      <td>1057067</td>\n",
              "      <td>1</td>\n",
              "      <td>1</td>\n",
              "      <td>1</td>\n",
              "      <td>1</td>\n",
              "      <td>1</td>\n",
              "      <td>?</td>\n",
              "      <td>1</td>\n",
              "      <td>1</td>\n",
              "      <td>1</td>\n",
              "      <td>2</td>\n",
              "    </tr>\n",
              "  </tbody>\n",
              "</table>\n",
              "</div>\n",
              "      <button class=\"colab-df-convert\" onclick=\"convertToInteractive('df-bb8f66e1-3b9e-4694-b7ee-2054cbdcdba6')\"\n",
              "              title=\"Convert this dataframe to an interactive table.\"\n",
              "              style=\"display:none;\">\n",
              "        \n",
              "  <svg xmlns=\"http://www.w3.org/2000/svg\" height=\"24px\"viewBox=\"0 0 24 24\"\n",
              "       width=\"24px\">\n",
              "    <path d=\"M0 0h24v24H0V0z\" fill=\"none\"/>\n",
              "    <path d=\"M18.56 5.44l.94 2.06.94-2.06 2.06-.94-2.06-.94-.94-2.06-.94 2.06-2.06.94zm-11 1L8.5 8.5l.94-2.06 2.06-.94-2.06-.94L8.5 2.5l-.94 2.06-2.06.94zm10 10l.94 2.06.94-2.06 2.06-.94-2.06-.94-.94-2.06-.94 2.06-2.06.94z\"/><path d=\"M17.41 7.96l-1.37-1.37c-.4-.4-.92-.59-1.43-.59-.52 0-1.04.2-1.43.59L10.3 9.45l-7.72 7.72c-.78.78-.78 2.05 0 2.83L4 21.41c.39.39.9.59 1.41.59.51 0 1.02-.2 1.41-.59l7.78-7.78 2.81-2.81c.8-.78.8-2.07 0-2.86zM5.41 20L4 18.59l7.72-7.72 1.47 1.35L5.41 20z\"/>\n",
              "  </svg>\n",
              "      </button>\n",
              "      \n",
              "  <style>\n",
              "    .colab-df-container {\n",
              "      display:flex;\n",
              "      flex-wrap:wrap;\n",
              "      gap: 12px;\n",
              "    }\n",
              "\n",
              "    .colab-df-convert {\n",
              "      background-color: #E8F0FE;\n",
              "      border: none;\n",
              "      border-radius: 50%;\n",
              "      cursor: pointer;\n",
              "      display: none;\n",
              "      fill: #1967D2;\n",
              "      height: 32px;\n",
              "      padding: 0 0 0 0;\n",
              "      width: 32px;\n",
              "    }\n",
              "\n",
              "    .colab-df-convert:hover {\n",
              "      background-color: #E2EBFA;\n",
              "      box-shadow: 0px 1px 2px rgba(60, 64, 67, 0.3), 0px 1px 3px 1px rgba(60, 64, 67, 0.15);\n",
              "      fill: #174EA6;\n",
              "    }\n",
              "\n",
              "    [theme=dark] .colab-df-convert {\n",
              "      background-color: #3B4455;\n",
              "      fill: #D2E3FC;\n",
              "    }\n",
              "\n",
              "    [theme=dark] .colab-df-convert:hover {\n",
              "      background-color: #434B5C;\n",
              "      box-shadow: 0px 1px 3px 1px rgba(0, 0, 0, 0.15);\n",
              "      filter: drop-shadow(0px 1px 2px rgba(0, 0, 0, 0.3));\n",
              "      fill: #FFFFFF;\n",
              "    }\n",
              "  </style>\n",
              "\n",
              "      <script>\n",
              "        const buttonEl =\n",
              "          document.querySelector('#df-bb8f66e1-3b9e-4694-b7ee-2054cbdcdba6 button.colab-df-convert');\n",
              "        buttonEl.style.display =\n",
              "          google.colab.kernel.accessAllowed ? 'block' : 'none';\n",
              "\n",
              "        async function convertToInteractive(key) {\n",
              "          const element = document.querySelector('#df-bb8f66e1-3b9e-4694-b7ee-2054cbdcdba6');\n",
              "          const dataTable =\n",
              "            await google.colab.kernel.invokeFunction('convertToInteractive',\n",
              "                                                     [key], {});\n",
              "          if (!dataTable) return;\n",
              "\n",
              "          const docLinkHtml = 'Like what you see? Visit the ' +\n",
              "            '<a target=\"_blank\" href=https://colab.research.google.com/notebooks/data_table.ipynb>data table notebook</a>'\n",
              "            + ' to learn more about interactive tables.';\n",
              "          element.innerHTML = '';\n",
              "          dataTable['output_type'] = 'display_data';\n",
              "          await google.colab.output.renderOutput(dataTable, element);\n",
              "          const docLink = document.createElement('div');\n",
              "          docLink.innerHTML = docLinkHtml;\n",
              "          element.appendChild(docLink);\n",
              "        }\n",
              "      </script>\n",
              "    </div>\n",
              "  </div>\n",
              "  "
            ]
          },
          "metadata": {},
          "execution_count": 211
        }
      ]
    },
    {
      "cell_type": "code",
      "source": [
        "# some values in column 6 contain \"?\" values, removing such rows\n",
        "# reference: https://stackoverflow.com/questions/18172851/deleting-dataframe-row-in-pandas-based-on-column-value\n",
        "\n",
        "data = data[data.iloc[:,6] != \"?\"]"
      ],
      "metadata": {
        "id": "P4vDhkN0rN5z"
      },
      "execution_count": null,
      "outputs": []
    },
    {
      "cell_type": "code",
      "source": [
        "#changing type of column 6 from obj to int\n",
        "data.iloc[:,6] = pd.to_numeric(data.iloc[:, 6])"
      ],
      "metadata": {
        "id": "9YdkVmk4rN2N"
      },
      "execution_count": null,
      "outputs": []
    },
    {
      "cell_type": "code",
      "source": [
        "data.info()"
      ],
      "metadata": {
        "colab": {
          "base_uri": "https://localhost:8080/"
        },
        "id": "o7FnhKd_q1kV",
        "outputId": "cb7ced80-17d0-4f47-d197-04f71d24e709"
      },
      "execution_count": null,
      "outputs": [
        {
          "output_type": "stream",
          "name": "stdout",
          "text": [
            "<class 'pandas.core.frame.DataFrame'>\n",
            "Int64Index: 683 entries, 0 to 698\n",
            "Data columns (total 11 columns):\n",
            " #   Column  Non-Null Count  Dtype\n",
            "---  ------  --------------  -----\n",
            " 0   0       683 non-null    int64\n",
            " 1   1       683 non-null    int64\n",
            " 2   2       683 non-null    int64\n",
            " 3   3       683 non-null    int64\n",
            " 4   4       683 non-null    int64\n",
            " 5   5       683 non-null    int64\n",
            " 6   6       683 non-null    int64\n",
            " 7   7       683 non-null    int64\n",
            " 8   8       683 non-null    int64\n",
            " 9   9       683 non-null    int64\n",
            " 10  10      683 non-null    int64\n",
            "dtypes: int64(11)\n",
            "memory usage: 64.0 KB\n"
          ]
        }
      ]
    },
    {
      "cell_type": "code",
      "source": [
        "data.shape"
      ],
      "metadata": {
        "colab": {
          "base_uri": "https://localhost:8080/"
        },
        "id": "acv6atkItqV5",
        "outputId": "ec377344-ac7c-4aec-be94-2cad6da57b3a"
      },
      "execution_count": null,
      "outputs": [
        {
          "output_type": "execute_result",
          "data": {
            "text/plain": [
              "(683, 11)"
            ]
          },
          "metadata": {},
          "execution_count": 215
        }
      ]
    },
    {
      "cell_type": "code",
      "source": [
        "target = data.iloc[:, -1]\n",
        "target.head(10)"
      ],
      "metadata": {
        "colab": {
          "base_uri": "https://localhost:8080/"
        },
        "id": "RZTa5JbhrZHQ",
        "outputId": "70951d16-38ec-4169-b025-3ef1be4a969a"
      },
      "execution_count": null,
      "outputs": [
        {
          "output_type": "execute_result",
          "data": {
            "text/plain": [
              "0    2\n",
              "1    2\n",
              "2    2\n",
              "3    2\n",
              "4    2\n",
              "5    4\n",
              "6    2\n",
              "7    2\n",
              "8    2\n",
              "9    2\n",
              "Name: 10, dtype: int64"
            ]
          },
          "metadata": {},
          "execution_count": 216
        }
      ]
    },
    {
      "cell_type": "code",
      "source": [
        "train_data = data.iloc[:,1:10]"
      ],
      "metadata": {
        "id": "A-chIgRlr2jR"
      },
      "execution_count": null,
      "outputs": []
    },
    {
      "cell_type": "code",
      "source": [
        "train_data.head()"
      ],
      "metadata": {
        "colab": {
          "base_uri": "https://localhost:8080/",
          "height": 206
        },
        "id": "SO58kkPCrZDs",
        "outputId": "fed57de2-86b2-4d54-b8e7-126a1b106ada"
      },
      "execution_count": null,
      "outputs": [
        {
          "output_type": "execute_result",
          "data": {
            "text/plain": [
              "   1  2  3  4  5   6  7  8  9\n",
              "0  5  1  1  1  2   1  3  1  1\n",
              "1  5  4  4  5  7  10  3  2  1\n",
              "2  3  1  1  1  2   2  3  1  1\n",
              "3  6  8  8  1  3   4  3  7  1\n",
              "4  4  1  1  3  2   1  3  1  1"
            ],
            "text/html": [
              "\n",
              "  <div id=\"df-bc9f20c7-b3bb-43b9-8ece-495c90754a29\">\n",
              "    <div class=\"colab-df-container\">\n",
              "      <div>\n",
              "<style scoped>\n",
              "    .dataframe tbody tr th:only-of-type {\n",
              "        vertical-align: middle;\n",
              "    }\n",
              "\n",
              "    .dataframe tbody tr th {\n",
              "        vertical-align: top;\n",
              "    }\n",
              "\n",
              "    .dataframe thead th {\n",
              "        text-align: right;\n",
              "    }\n",
              "</style>\n",
              "<table border=\"1\" class=\"dataframe\">\n",
              "  <thead>\n",
              "    <tr style=\"text-align: right;\">\n",
              "      <th></th>\n",
              "      <th>1</th>\n",
              "      <th>2</th>\n",
              "      <th>3</th>\n",
              "      <th>4</th>\n",
              "      <th>5</th>\n",
              "      <th>6</th>\n",
              "      <th>7</th>\n",
              "      <th>8</th>\n",
              "      <th>9</th>\n",
              "    </tr>\n",
              "  </thead>\n",
              "  <tbody>\n",
              "    <tr>\n",
              "      <th>0</th>\n",
              "      <td>5</td>\n",
              "      <td>1</td>\n",
              "      <td>1</td>\n",
              "      <td>1</td>\n",
              "      <td>2</td>\n",
              "      <td>1</td>\n",
              "      <td>3</td>\n",
              "      <td>1</td>\n",
              "      <td>1</td>\n",
              "    </tr>\n",
              "    <tr>\n",
              "      <th>1</th>\n",
              "      <td>5</td>\n",
              "      <td>4</td>\n",
              "      <td>4</td>\n",
              "      <td>5</td>\n",
              "      <td>7</td>\n",
              "      <td>10</td>\n",
              "      <td>3</td>\n",
              "      <td>2</td>\n",
              "      <td>1</td>\n",
              "    </tr>\n",
              "    <tr>\n",
              "      <th>2</th>\n",
              "      <td>3</td>\n",
              "      <td>1</td>\n",
              "      <td>1</td>\n",
              "      <td>1</td>\n",
              "      <td>2</td>\n",
              "      <td>2</td>\n",
              "      <td>3</td>\n",
              "      <td>1</td>\n",
              "      <td>1</td>\n",
              "    </tr>\n",
              "    <tr>\n",
              "      <th>3</th>\n",
              "      <td>6</td>\n",
              "      <td>8</td>\n",
              "      <td>8</td>\n",
              "      <td>1</td>\n",
              "      <td>3</td>\n",
              "      <td>4</td>\n",
              "      <td>3</td>\n",
              "      <td>7</td>\n",
              "      <td>1</td>\n",
              "    </tr>\n",
              "    <tr>\n",
              "      <th>4</th>\n",
              "      <td>4</td>\n",
              "      <td>1</td>\n",
              "      <td>1</td>\n",
              "      <td>3</td>\n",
              "      <td>2</td>\n",
              "      <td>1</td>\n",
              "      <td>3</td>\n",
              "      <td>1</td>\n",
              "      <td>1</td>\n",
              "    </tr>\n",
              "  </tbody>\n",
              "</table>\n",
              "</div>\n",
              "      <button class=\"colab-df-convert\" onclick=\"convertToInteractive('df-bc9f20c7-b3bb-43b9-8ece-495c90754a29')\"\n",
              "              title=\"Convert this dataframe to an interactive table.\"\n",
              "              style=\"display:none;\">\n",
              "        \n",
              "  <svg xmlns=\"http://www.w3.org/2000/svg\" height=\"24px\"viewBox=\"0 0 24 24\"\n",
              "       width=\"24px\">\n",
              "    <path d=\"M0 0h24v24H0V0z\" fill=\"none\"/>\n",
              "    <path d=\"M18.56 5.44l.94 2.06.94-2.06 2.06-.94-2.06-.94-.94-2.06-.94 2.06-2.06.94zm-11 1L8.5 8.5l.94-2.06 2.06-.94-2.06-.94L8.5 2.5l-.94 2.06-2.06.94zm10 10l.94 2.06.94-2.06 2.06-.94-2.06-.94-.94-2.06-.94 2.06-2.06.94z\"/><path d=\"M17.41 7.96l-1.37-1.37c-.4-.4-.92-.59-1.43-.59-.52 0-1.04.2-1.43.59L10.3 9.45l-7.72 7.72c-.78.78-.78 2.05 0 2.83L4 21.41c.39.39.9.59 1.41.59.51 0 1.02-.2 1.41-.59l7.78-7.78 2.81-2.81c.8-.78.8-2.07 0-2.86zM5.41 20L4 18.59l7.72-7.72 1.47 1.35L5.41 20z\"/>\n",
              "  </svg>\n",
              "      </button>\n",
              "      \n",
              "  <style>\n",
              "    .colab-df-container {\n",
              "      display:flex;\n",
              "      flex-wrap:wrap;\n",
              "      gap: 12px;\n",
              "    }\n",
              "\n",
              "    .colab-df-convert {\n",
              "      background-color: #E8F0FE;\n",
              "      border: none;\n",
              "      border-radius: 50%;\n",
              "      cursor: pointer;\n",
              "      display: none;\n",
              "      fill: #1967D2;\n",
              "      height: 32px;\n",
              "      padding: 0 0 0 0;\n",
              "      width: 32px;\n",
              "    }\n",
              "\n",
              "    .colab-df-convert:hover {\n",
              "      background-color: #E2EBFA;\n",
              "      box-shadow: 0px 1px 2px rgba(60, 64, 67, 0.3), 0px 1px 3px 1px rgba(60, 64, 67, 0.15);\n",
              "      fill: #174EA6;\n",
              "    }\n",
              "\n",
              "    [theme=dark] .colab-df-convert {\n",
              "      background-color: #3B4455;\n",
              "      fill: #D2E3FC;\n",
              "    }\n",
              "\n",
              "    [theme=dark] .colab-df-convert:hover {\n",
              "      background-color: #434B5C;\n",
              "      box-shadow: 0px 1px 3px 1px rgba(0, 0, 0, 0.15);\n",
              "      filter: drop-shadow(0px 1px 2px rgba(0, 0, 0, 0.3));\n",
              "      fill: #FFFFFF;\n",
              "    }\n",
              "  </style>\n",
              "\n",
              "      <script>\n",
              "        const buttonEl =\n",
              "          document.querySelector('#df-bc9f20c7-b3bb-43b9-8ece-495c90754a29 button.colab-df-convert');\n",
              "        buttonEl.style.display =\n",
              "          google.colab.kernel.accessAllowed ? 'block' : 'none';\n",
              "\n",
              "        async function convertToInteractive(key) {\n",
              "          const element = document.querySelector('#df-bc9f20c7-b3bb-43b9-8ece-495c90754a29');\n",
              "          const dataTable =\n",
              "            await google.colab.kernel.invokeFunction('convertToInteractive',\n",
              "                                                     [key], {});\n",
              "          if (!dataTable) return;\n",
              "\n",
              "          const docLinkHtml = 'Like what you see? Visit the ' +\n",
              "            '<a target=\"_blank\" href=https://colab.research.google.com/notebooks/data_table.ipynb>data table notebook</a>'\n",
              "            + ' to learn more about interactive tables.';\n",
              "          element.innerHTML = '';\n",
              "          dataTable['output_type'] = 'display_data';\n",
              "          await google.colab.output.renderOutput(dataTable, element);\n",
              "          const docLink = document.createElement('div');\n",
              "          docLink.innerHTML = docLinkHtml;\n",
              "          element.appendChild(docLink);\n",
              "        }\n",
              "      </script>\n",
              "    </div>\n",
              "  </div>\n",
              "  "
            ]
          },
          "metadata": {},
          "execution_count": 218
        }
      ]
    },
    {
      "cell_type": "code",
      "source": [
        "target = target.map({2:0, 4:1})\n",
        "# target = target.map({2:1, 4:0})\n"
      ],
      "metadata": {
        "id": "62RUbFhHrZBK"
      },
      "execution_count": null,
      "outputs": []
    },
    {
      "cell_type": "code",
      "source": [
        "#references used: \n",
        "# 1. https://medium.com/nerd-for-tech/k-means-python-implementation-from-scratch-8400f30b8e5c\n",
        "# 2. Book: [Joel_Grus]_Data_Science_from_Scratch"
      ],
      "metadata": {
        "id": "4HMaIneK3WHn"
      },
      "execution_count": null,
      "outputs": []
    },
    {
      "cell_type": "code",
      "source": [
        "def initial_centroids(df, k):\n",
        "  random_indices = np.random.choice(len(df), size=k, replace=False)\n",
        "  centroids =  df[random_indices, :]\n",
        "  return centroids"
      ],
      "metadata": {
        "id": "tOxFEeVPza_5"
      },
      "execution_count": null,
      "outputs": []
    },
    {
      "cell_type": "code",
      "source": [
        "def calculate_distance(row, centroid):\n",
        "  dist = np.sqrt((centroid[0]-row[0])**2 + (centroid[1]-row[1])**2)\n",
        "  return dist"
      ],
      "metadata": {
        "id": "e2ypZ6s071lG"
      },
      "execution_count": null,
      "outputs": []
    },
    {
      "cell_type": "code",
      "source": [
        "def kmeans(df, k):\n",
        "  \n",
        "  #declaring a variable for while loop\n",
        "  a = 1\n",
        "  \n",
        "  #creating an array for storing cluster assignments\n",
        "  cluster_no = np.zeros(df.shape[0])\n",
        "\n",
        "  # select k random centroids\n",
        "  centroids = initial_centroids(df, k)\n",
        "\n",
        "  while a == 1:\n",
        "\n",
        "    # for each row\n",
        "    for i, row in enumerate(df):\n",
        "\n",
        "      #initially setting distance large\n",
        "      distance = 1000000000000000000.0\n",
        "      # distance of the point from all centroids\n",
        "      for j, centroid in enumerate(centroids):\n",
        "        new_distance = calculate_distance(row, centroid)\n",
        "\n",
        "        # store closest centroid \n",
        "        if distance > new_distance:\n",
        "          distance = new_distance\n",
        "          cluster_no[i] = j\n",
        "\n",
        "    #cluster-wise mean calculation\n",
        "    new_centroids = pd.DataFrame(df).groupby(by=cluster_no).mean().values\n",
        "\n",
        "    # if the previous and new centroids are same, then exit\n",
        "    # else assign new centroids and continue\n",
        "    if centroids.all() == new_centroids.all():\n",
        "      a = 0\n",
        "    else:\n",
        "      centroids = new_centroids\n",
        "      \n",
        "  return cluster_no"
      ],
      "metadata": {
        "id": "W_8CKJn6m1va"
      },
      "execution_count": null,
      "outputs": []
    },
    {
      "cell_type": "code",
      "source": [
        "train_data1 = train_data.values"
      ],
      "metadata": {
        "id": "jNfdxzMFm1tb"
      },
      "execution_count": null,
      "outputs": []
    },
    {
      "cell_type": "markdown",
      "source": [
        "**Implementation 1:**\n",
        "\n",
        "\n"
      ],
      "metadata": {
        "id": "-2bU8wbLD8qj"
      }
    },
    {
      "cell_type": "code",
      "source": [
        "cluster = kmeans(train_data1, 2)"
      ],
      "metadata": {
        "id": "qaP3Q3Dom1kw"
      },
      "execution_count": null,
      "outputs": []
    },
    {
      "cell_type": "code",
      "source": [
        "# print(cluster)"
      ],
      "metadata": {
        "id": "aI690KHym1iJ"
      },
      "execution_count": null,
      "outputs": []
    },
    {
      "cell_type": "markdown",
      "source": [
        "Accuracy of KMeans:"
      ],
      "metadata": {
        "id": "atPyg8XGDmXj"
      }
    },
    {
      "cell_type": "code",
      "source": [
        "print(classification_report(target, cluster))"
      ],
      "metadata": {
        "colab": {
          "base_uri": "https://localhost:8080/"
        },
        "id": "n0K89ElCqxg8",
        "outputId": "f6fe2c88-d18d-4272-f700-bf4707b0efe0"
      },
      "execution_count": null,
      "outputs": [
        {
          "output_type": "stream",
          "name": "stdout",
          "text": [
            "              precision    recall  f1-score   support\n",
            "\n",
            "           0       0.82      0.99      0.90       444\n",
            "           1       0.97      0.61      0.75       239\n",
            "\n",
            "    accuracy                           0.86       683\n",
            "   macro avg       0.90      0.80      0.82       683\n",
            "weighted avg       0.87      0.86      0.85       683\n",
            "\n"
          ]
        }
      ]
    },
    {
      "cell_type": "markdown",
      "source": [
        "The algorithm returns the accuracy of: 0.86\n",
        "\n",
        "[the accuracy changes according to the initial centers]"
      ],
      "metadata": {
        "id": "4EMxAuGjDqWf"
      }
    },
    {
      "cell_type": "markdown",
      "source": [
        "**Implementation 2:**\n",
        "\n",
        "\n"
      ],
      "metadata": {
        "id": "G9wdQkLHEK6q"
      }
    },
    {
      "cell_type": "code",
      "source": [
        "cluster = kmeans(train_data1, 2)"
      ],
      "metadata": {
        "id": "0vUjgE7nEK6r"
      },
      "execution_count": null,
      "outputs": []
    },
    {
      "cell_type": "code",
      "source": [
        "# print(cluster)"
      ],
      "metadata": {
        "id": "UeLOVxHSEK6s"
      },
      "execution_count": null,
      "outputs": []
    },
    {
      "cell_type": "markdown",
      "source": [
        "Accuracy of KMeans:"
      ],
      "metadata": {
        "id": "1ChFjcnFEK6s"
      }
    },
    {
      "cell_type": "code",
      "source": [
        "print(classification_report(target, cluster))"
      ],
      "metadata": {
        "colab": {
          "base_uri": "https://localhost:8080/"
        },
        "outputId": "f5b764d9-19b2-4df6-bf89-0b1e30b5af9b",
        "id": "jSIV9JbaEK6s"
      },
      "execution_count": null,
      "outputs": [
        {
          "output_type": "stream",
          "name": "stdout",
          "text": [
            "              precision    recall  f1-score   support\n",
            "\n",
            "           0       0.91      0.98      0.94       444\n",
            "           1       0.97      0.81      0.88       239\n",
            "\n",
            "    accuracy                           0.92       683\n",
            "   macro avg       0.94      0.90      0.91       683\n",
            "weighted avg       0.93      0.92      0.92       683\n",
            "\n"
          ]
        }
      ]
    },
    {
      "cell_type": "markdown",
      "source": [
        "The algorithm returns the accuracy of: 0.92\n",
        "\n",
        "[the accuracy changes according to the initial centers]"
      ],
      "metadata": {
        "id": "CN-r3U3jEK6t"
      }
    },
    {
      "cell_type": "markdown",
      "source": [
        "**Implementation 3:**\n",
        "\n",
        "\n"
      ],
      "metadata": {
        "id": "wNMcEbpzETIp"
      }
    },
    {
      "cell_type": "code",
      "source": [
        "cluster = kmeans(train_data1, 2)"
      ],
      "metadata": {
        "id": "OgHIAKSAETIq"
      },
      "execution_count": null,
      "outputs": []
    },
    {
      "cell_type": "code",
      "source": [
        "# print(cluster)"
      ],
      "metadata": {
        "id": "u5Wyn7PUETIq"
      },
      "execution_count": null,
      "outputs": []
    },
    {
      "cell_type": "markdown",
      "source": [
        "Accuracy of KMeans:"
      ],
      "metadata": {
        "id": "Sj4brlapETIr"
      }
    },
    {
      "cell_type": "code",
      "source": [
        "print(classification_report(target, cluster))"
      ],
      "metadata": {
        "colab": {
          "base_uri": "https://localhost:8080/"
        },
        "outputId": "84bebd0c-52e9-49f6-984d-a79c38704b82",
        "id": "ODYdeGNWETIr"
      },
      "execution_count": null,
      "outputs": [
        {
          "output_type": "stream",
          "name": "stdout",
          "text": [
            "              precision    recall  f1-score   support\n",
            "\n",
            "           0       0.94      0.62      0.74       444\n",
            "           1       0.56      0.92      0.70       239\n",
            "\n",
            "    accuracy                           0.72       683\n",
            "   macro avg       0.75      0.77      0.72       683\n",
            "weighted avg       0.81      0.72      0.73       683\n",
            "\n"
          ]
        }
      ]
    },
    {
      "cell_type": "markdown",
      "source": [
        "The algorithm returns the accuracy of: 0.72"
      ],
      "metadata": {
        "id": "p-z2ZdB_ETIs"
      }
    },
    {
      "cell_type": "markdown",
      "source": [
        "**Conclusion:** The accuracy changes every time according to the initial centers. \n",
        "As the Kmeans algorithm starts with the random center assignments, the result changes from run-to-run."
      ],
      "metadata": {
        "id": "bkKzakpUJoJN"
      }
    },
    {
      "cell_type": "code",
      "source": [],
      "metadata": {
        "id": "-VIm509Em1er"
      },
      "execution_count": null,
      "outputs": []
    },
    {
      "cell_type": "markdown",
      "source": [
        "**Using Supervised Method**\n",
        "- Logistic Regression"
      ],
      "metadata": {
        "id": "qUcJ6EVLGz1P"
      }
    },
    {
      "cell_type": "code",
      "source": [
        "from sklearn.model_selection import train_test_split\n",
        "from sklearn.linear_model import LogisticRegression"
      ],
      "metadata": {
        "id": "RS5MI4KgHviG"
      },
      "execution_count": null,
      "outputs": []
    },
    {
      "cell_type": "code",
      "source": [
        "X = data.iloc[:, 1:10]\n",
        "y = data.iloc[:,-1]\n",
        "X_train, X_test, y_train, y_test = train_test_split(X, y, test_size=0.2, random_state=0)"
      ],
      "metadata": {
        "id": "3e6hKe0-G0zJ"
      },
      "execution_count": null,
      "outputs": []
    },
    {
      "cell_type": "code",
      "source": [
        "logmodel = LogisticRegression()\n",
        "logmodel.fit(X_train,y_train)"
      ],
      "metadata": {
        "colab": {
          "base_uri": "https://localhost:8080/"
        },
        "id": "FMFBq3KqG1Co",
        "outputId": "18fcd463-9d2d-43c6-dae7-6b6a4ccb0b33"
      },
      "execution_count": null,
      "outputs": [
        {
          "output_type": "execute_result",
          "data": {
            "text/plain": [
              "LogisticRegression()"
            ]
          },
          "metadata": {},
          "execution_count": 238
        }
      ]
    },
    {
      "cell_type": "code",
      "source": [
        "pred_test_log = logmodel.predict(X_test)\n",
        "pred_log = logmodel.predict(X_train)"
      ],
      "metadata": {
        "id": "CUDzn40SIXVK"
      },
      "execution_count": null,
      "outputs": []
    },
    {
      "cell_type": "code",
      "source": [
        "print(classification_report(y_test,pred_test_log))"
      ],
      "metadata": {
        "colab": {
          "base_uri": "https://localhost:8080/"
        },
        "id": "SomC5LScIXR7",
        "outputId": "db1d8640-48fa-4c91-dade-15f62784ae9c"
      },
      "execution_count": null,
      "outputs": [
        {
          "output_type": "stream",
          "name": "stdout",
          "text": [
            "              precision    recall  f1-score   support\n",
            "\n",
            "           2       0.97      0.97      0.97        87\n",
            "           4       0.94      0.94      0.94        50\n",
            "\n",
            "    accuracy                           0.96       137\n",
            "   macro avg       0.95      0.95      0.95       137\n",
            "weighted avg       0.96      0.96      0.96       137\n",
            "\n"
          ]
        }
      ]
    },
    {
      "cell_type": "markdown",
      "source": [
        "The Logistic regression model returns higher accuracy than the KMeans method i.e. 0.96."
      ],
      "metadata": {
        "id": "VxksHIE3I4Z9"
      }
    },
    {
      "cell_type": "code",
      "source": [],
      "metadata": {
        "id": "h0lGejQKIXPC"
      },
      "execution_count": null,
      "outputs": []
    },
    {
      "cell_type": "markdown",
      "source": [
        "## **Q**. 2\n",
        "\n",
        "\n"
      ],
      "metadata": {
        "id": "e9eWSd-vSnGT"
      }
    },
    {
      "cell_type": "code",
      "source": [
        "import numpy as np\n",
        "import numpy.linalg\n",
        "from numpy.linalg import inv, pinv"
      ],
      "metadata": {
        "id": "FaJpp-qlSqY4"
      },
      "execution_count": null,
      "outputs": []
    },
    {
      "cell_type": "code",
      "source": [
        "    def gaussian(self, X):\n",
        "        means = {}  # uk\n",
        "        covariance = {}  # Sigma k\n",
        "        priors = {}  # p(Ck)\n",
        "        for class_id, values in X.items():\n",
        "            proj = []\n",
        "            for point in values:\n",
        "                proj = np.dot(point, self.W.T)\n",
        "                proj.append(proj)\n",
        "            proj = np.asarray(proj)\n",
        "            means[class_id] = np.mean(proj, axis=0)\n",
        "            covariance[class_id] = np.cov(proj, rowvar=False)  # this is the within-class covariance, or Sw\n",
        "            \n",
        "            priors[class_id] = len(values) / self.N\n",
        "        return means, covariance, priors\n",
        "\n",
        "    # RETURNS AN ARRAY OF CLASS PREDICTIONS\n",
        "\n",
        "        return p_p, c_p\n"
      ],
      "metadata": {
        "id": "ASELESBcSwl8"
      },
      "execution_count": null,
      "outputs": []
    },
    {
      "cell_type": "code",
      "source": [
        "(train_X, train_y), (test_X, test_y) = mnist.load_data()\n",
        "print('X_train: ' + str(train_X.shape))\n",
        "print('Y_train: ' + str(train_y.shape))\n",
        "print('X_test:  '  + str(test_X.shape))\n",
        "print('Y_test:  '  + str(test_y.shape))\n",
        "\n",
        "print(train_y)"
      ],
      "metadata": {
        "id": "1U5iAYU6mbFX"
      },
      "execution_count": null,
      "outputs": []
    },
    {
      "cell_type": "markdown",
      "source": [
        "##Q.3"
      ],
      "metadata": {
        "id": "2JZSqVOGyFCx"
      }
    },
    {
      "cell_type": "code",
      "source": [],
      "metadata": {
        "id": "dZqdBmM40Bw9"
      },
      "execution_count": null,
      "outputs": []
    },
    {
      "cell_type": "code",
      "execution_count": null,
      "metadata": {
        "id": "fhFbLtOIcpH0"
      },
      "outputs": [],
      "source": [
        "import numpy as np\n",
        "from numpy.matlib import repmat "
      ]
    },
    {
      "cell_type": "code",
      "execution_count": null,
      "metadata": {
        "id": "yJxbkPWMcpLL"
      },
      "outputs": [],
      "source": [
        "import matplotlib\n",
        "matplotlib.use('PDF')\n",
        "import matplotlib.pyplot as plt\n",
        "import sys\n",
        "from scipy.io import loadmat\n",
        "import time\n",
        "\n",
        "%matplotlib inline\n"
      ]
    },
    {
      "cell_type": "code",
      "execution_count": null,
      "metadata": {
        "id": "IGlIuUC2cpM4"
      },
      "outputs": [],
      "source": [
        "#l2distance Helper Function\n",
        "def l2distance(X, Z=None):\n",
        "    if Z is None:\n",
        "        n, d = X.shape\n",
        "        s1 = np.sum(np.power(X, 2), axis=1).reshape(-1,1)\n",
        "        D1 = -2 * np.dot(X, X.T) + repmat(s1, 1, n)\n",
        "        D = D1 + repmat(s1.T, n, 1)\n",
        "        np.fill_diagonal(D, 0)\n",
        "        D = np.sqrt(np.maximum(D, 0))\n",
        "    else:\n",
        "        n, d = X.shape\n",
        "        m, _ = Z.shape\n",
        "        s1 = np.sum(np.power(X, 2), axis=1).reshape(-1,1)\n",
        "        s2 = np.sum(np.power(Z, 2), axis=1).reshape(1,-1)\n",
        "        D1 = -2 * np.dot(X, Z.T) + repmat(s1, 1, m)\n",
        "        D = D1 + repmat(s2, n, 1)\n",
        "        D = np.sqrt(np.maximum(D, 0))\n",
        "    return D"
      ]
    },
    {
      "cell_type": "code",
      "execution_count": null,
      "metadata": {
        "id": "zjdRnYIMcpQD"
      },
      "outputs": [],
      "source": [
        "#toydata Helper Function\n",
        "def toydata(OFFSET,N):   \n",
        "    NHALF = int(np.ceil(N/2))\n",
        "    x = np.random.randn(N, 2)\n",
        "    x[NHALF:, :] += OFFSET  \n",
        "    \n",
        "    y = np.ones(N)\n",
        "    y[NHALF:] *= 2\n",
        "    \n",
        "    jj = np.random.permutation(N)\n",
        "    return x[jj, :], y[jj]"
      ]
    },
    {
      "cell_type": "markdown",
      "metadata": {
        "id": "gs9QLFk7yBAp"
      },
      "source": [
        "### (a) Noise (computeybar)"
      ]
    },
    {
      "cell_type": "code",
      "execution_count": null,
      "metadata": {
        "id": "9_H28w4EcpRs"
      },
      "outputs": [],
      "source": [
        "def computeybar(xTe, OFFSET):\n",
        "\n",
        "    n,temp = xTe.shape\n",
        "    ybar = np.zeros(n)  \n",
        "    normpdf = lambda x, mu, sigma: np.exp(-0.5 * np.power((x - mu) / sigma, 2)) / (np.sqrt(2 * np.pi) * sigma)\n",
        "    \n",
        "    pxy1=normpdf(xTe,0,1)\n",
        "    pxxy1=pxy1[:,0]*pxy1[:,1]\n",
        "    pxy2=normpdf(xTe,OFFSET,1)\n",
        "    pxxy2=pxy2[:,0]*pxy2[:,1]\n",
        "    \n",
        "    pxx=pxxy1*0.5+pxxy2*0.5\n",
        "    \n",
        "    \n",
        "    py1xx=pxxy1*0.5/pxx\n",
        "    py2xx=pxxy2*0.5/pxx\n",
        "    \n",
        "    ybar=py1xx+2*py2xx\n",
        "    \n",
        "    return ybar"
      ]
    },
    {
      "cell_type": "code",
      "execution_count": null,
      "metadata": {
        "colab": {
          "base_uri": "https://localhost:8080/",
          "height": 425
        },
        "id": "-TvnmN9NcpVo",
        "outputId": "810e1e03-6a86-4ee4-cc5b-d103c8130617"
      },
      "outputs": [
        {
          "name": "stdout",
          "output_type": "stream",
          "text": [
            "77\n",
            "Error of Bayes classifier: 7.7%.\n"
          ]
        },
        {
          "data": {
            "image/png": "[encoded data removed]",
            "text/plain": [
              "<Figure size 720x432 with 1 Axes>"
            ]
          },
          "metadata": {
            "needs_background": "light"
          },
          "output_type": "display_data"
        }
      ],
      "source": [
        "OFFSET = 2\n",
        "xTe, yTe = toydata(OFFSET, 1000)\n",
        "\n",
        "# Bayes Error\n",
        "ybar = computeybar(xTe, OFFSET)\n",
        "predictions = np.round(ybar)\n",
        "errors = predictions != yTe\n",
        "err = errors.sum() / len(yTe) * 100\n",
        "print(errors.sum())\n",
        "print('Error of Bayes classifier: %.1f%%.' % err)\n",
        "\n",
        "# plotting the data\n",
        "i1 = yTe == 1\n",
        "i2 = yTe == 2\n",
        "plt.figure(figsize=(10,6))\n",
        "plt.scatter(xTe[i1, 0], xTe[i1, 1], c='r', marker='o')\n",
        "plt.scatter(xTe[i2, 0], xTe[i2, 1], c='b', marker='o')\n",
        "plt.scatter(xTe[errors, 0], xTe[errors, 1], c='k', s=100, alpha=0.2)\n",
        "plt.title(\"Plot of data (misclassified points highlighted)\")\n",
        "plt.show()"
      ]
    },
    {
      "cell_type": "code",
      "execution_count": null,
      "metadata": {
        "id": "nALMAMetZ9RL"
      },
      "outputs": [],
      "source": [
        "#kregression Helper Function\n",
        "def kregression(xTr,yTr,sigma=0.1,lmbda=0.01):\n",
        "    kernel = lambda x, z: np.power(1+(np.power(l2distance(x,z),2) / (2 * np.power(sigma,2))),-4)\n",
        "    ridge = lambda K, lmbda2: K + lmbda * np.eye(K.shape[0], K.shape[1])\n",
        "    beta = np.linalg.solve(ridge(kernel(xTr, xTr), lmbda), yTr)\n",
        "    \n",
        "    fun = lambda Xt: np.dot(kernel(Xt, xTr), beta)\n",
        "    return fun"
      ]
    },
    {
      "cell_type": "markdown",
      "metadata": {
        "id": "fe6seSFP1cVR"
      },
      "source": [
        "###(b) Bias (computehbar)"
      ]
    },
    {
      "cell_type": "code",
      "execution_count": null,
      "metadata": {
        "id": "BkGbmTUF1a3l"
      },
      "outputs": [],
      "source": [
        "def computehbar(xTe, sigma, lmbda, Nsmall, NMODELS, OFFSET):\n",
        "    n = xTe.shape[0]\n",
        "    hbar = np.zeros(n)\n",
        "    for j in range(NMODELS):\n",
        "        ## fill in code here\n",
        "        xTr,yTr=toydata(OFFSET,Nsmall)\n",
        "        model=kregression(xTr,yTr,sigma,lmbda)\n",
        "        hbar+=model(xTe)    \n",
        "    hbar /= NMODELS\n",
        "    return hbar"
      ]
    },
    {
      "cell_type": "markdown",
      "metadata": {
        "id": "GuyRE2GY1q53"
      },
      "source": [
        "###(c) Variance (computevariance)"
      ]
    },
    {
      "cell_type": "code",
      "execution_count": null,
      "metadata": {
        "id": "1kX2oZQu1a5m"
      },
      "outputs": [],
      "source": [
        "def computevariance(xTe, sigma, lmbda, hbar, Nsmall, NMODELS, OFFSET):\n",
        "    n = xTe.shape[0]\n",
        "    variance = np.zeros(n)\n",
        "      \n",
        "    for j in range(NMODELS):\n",
        "        ## fill in code here\n",
        "        xTr,yTr=toydata(OFFSET,Nsmall)\n",
        "        model=kregression(xTr,yTr,sigma,lmbda)\n",
        "        variance+=(model(xTe)-hbar)**2    \n",
        "    \n",
        "    variance = np.mean(variance)/NMODELS\n",
        "    return variance"
      ]
    },
    {
      "cell_type": "markdown",
      "metadata": {
        "id": "sdsgjqiC2UIf"
      },
      "source": [
        "###(d) Demo (biasvariancedemo)"
      ]
    },
    {
      "cell_type": "code",
      "execution_count": null,
      "metadata": {
        "colab": {
          "base_uri": "https://localhost:8080/"
        },
        "id": "k0OSl72L1a8Y",
        "outputId": "21fd8aee-3bbb-49aa-e111-bbb3fb65a70b"
      },
      "outputs": [
        {
          "name": "stdout",
          "output_type": "stream",
          "text": [
            "Regularization λ=2^-6.0: Bias: 0.0290 Variance: 0.0854 Noise: 0.0563 Bias+Variance+Noise: 0.1707 Test error: 0.1616\n",
            "Regularization λ=2^-5.5: Bias: 0.0299 Variance: 0.0680 Noise: 0.0572 Bias+Variance+Noise: 0.1551 Test error: 0.1585\n",
            "Regularization λ=2^-5.0: Bias: 0.0304 Variance: 0.0573 Noise: 0.0581 Bias+Variance+Noise: 0.1458 Test error: 0.1602\n",
            "Regularization λ=2^-4.5: Bias: 0.0299 Variance: 0.0513 Noise: 0.0589 Bias+Variance+Noise: 0.1400 Test error: 0.1505\n",
            "Regularization λ=2^-4.0: Bias: 0.0356 Variance: 0.0464 Noise: 0.0563 Bias+Variance+Noise: 0.1384 Test error: 0.1338\n",
            "Regularization λ=2^-3.5: Bias: 0.0416 Variance: 0.0460 Noise: 0.0577 Bias+Variance+Noise: 0.1453 Test error: 0.1377\n",
            "Regularization λ=2^-3.0: Bias: 0.0518 Variance: 0.0390 Noise: 0.0608 Bias+Variance+Noise: 0.1516 Test error: 0.1456\n",
            "Regularization λ=2^-2.5: Bias: 0.0477 Variance: 0.0353 Noise: 0.0577 Bias+Variance+Noise: 0.1408 Test error: 0.1428\n",
            "Regularization λ=2^-2.0: Bias: 0.0581 Variance: 0.0285 Noise: 0.0552 Bias+Variance+Noise: 0.1418 Test error: 0.1506\n",
            "Regularization λ=2^-1.5: Bias: 0.0755 Variance: 0.0256 Noise: 0.0591 Bias+Variance+Noise: 0.1602 Test error: 0.1551\n",
            "Regularization λ=2^-1.0: Bias: 0.0910 Variance: 0.0226 Noise: 0.0590 Bias+Variance+Noise: 0.1725 Test error: 0.1739\n",
            "Regularization λ=2^-0.5: Bias: 0.1140 Variance: 0.0177 Noise: 0.0592 Bias+Variance+Noise: 0.1909 Test error: 0.1961\n",
            "Regularization λ=2^0.0: Bias: 0.1543 Variance: 0.0177 Noise: 0.0588 Bias+Variance+Noise: 0.2308 Test error: 0.2396\n"
          ]
        }
      ],
      "source": [
        "# biasvariancedemo\n",
        "\n",
        "#training set size N\n",
        "Nsmall = 10\n",
        "#really big data set size\n",
        "Nbig = 10000\n",
        "# number of models\n",
        "NMODELS = 100\n",
        "#regularization constants to evaluate\n",
        "lmbdas = np.arange(-6, 0+0.5, 0.5)\n",
        "#kernel width\n",
        "sigma = 4\n",
        "\n",
        "# we store\n",
        "Nlambdas = len(lmbdas)\n",
        "lbias = np.zeros(Nlambdas)\n",
        "lvariance = np.zeros(Nlambdas)\n",
        "ltotal = np.zeros(Nlambdas)\n",
        "lnoise = np.zeros(Nlambdas)\n",
        "lsum = np.zeros(Nlambdas)\n",
        "\n",
        "# Different regularization constant classifiers\n",
        "for md in range(Nlambdas):\n",
        "    lmbda = 2 ** lmbdas[md]\n",
        "\n",
        "    xTe,yTe = toydata(OFFSET,Nbig)\n",
        "    \n",
        "    # Estimate AVERAGE ERROR (TOTAL)\n",
        "    total = 0\n",
        "    for j in range(NMODELS):\n",
        "        xTr2,yTr2 = toydata(OFFSET,Nsmall)\n",
        "        fsmall = kregression(xTr2,yTr2,sigma,lmbda)\n",
        "        total += np.mean((fsmall(xTe) - yTe) ** 2)\n",
        "    total /= NMODELS\n",
        "    \n",
        "    # Estimate Noise\n",
        "    ybar = computeybar(xTe, OFFSET)\n",
        "    noise = np.mean((yTe-ybar) ** 2)\n",
        "    \n",
        "    # Estimate Bias\n",
        "    hbar = computehbar(xTe,sigma, lmbda, Nsmall, NMODELS, OFFSET)\n",
        "    bias = np.mean((hbar-ybar) ** 2)\n",
        "\n",
        "    # Estimating VARIANCE\n",
        "    variance = computevariance(xTe,sigma,lmbda,hbar, Nsmall, NMODELS, OFFSET)\n",
        "    \n",
        "    # print and store results\n",
        "    lbias[md] = bias\n",
        "    lvariance[md] = variance\n",
        "    ltotal[md] = total\n",
        "    lnoise[md] = noise\n",
        "    lsum[md] = lbias[md]+lvariance[md]+lnoise[md]\n",
        "    print('Regularization λ=2^%2.1f: Bias: %2.4f Variance: %2.4f Noise: %2.4f Bias+Variance+Noise: %2.4f Test error: %2.4f'\n",
        "          % (lmbdas[md],lbias[md],lvariance[md],lnoise[md],lsum[md],ltotal[md]))"
      ]
    },
    {
      "cell_type": "code",
      "execution_count": null,
      "metadata": {
        "colab": {
          "base_uri": "https://localhost:8080/",
          "height": 403
        },
        "id": "dY-O2PUg1a-Y",
        "outputId": "95a66c7a-abec-4d13-a314-6e775cbd44f6"
      },
      "outputs": [
        {
          "data": {
            "image/png": "[encoded data removed]",
            "text/plain": [
              "<Figure size 720x432 with 1 Axes>"
            ]
          },
          "metadata": {
            "needs_background": "light"
          },
          "output_type": "display_data"
        }
      ],
      "source": [
        "# plot results\n",
        "plt.figure(figsize=(10,6))\n",
        "plt.plot(lbias[:Nlambdas],c='r',linestyle='-',linewidth=2)\n",
        "plt.plot(lvariance[:Nlambdas],c='k', linestyle='-',linewidth=2)\n",
        "plt.plot(lnoise[:Nlambdas],c='g', linestyle='-',linewidth=2)\n",
        "plt.plot(ltotal[:Nlambdas],c='b', linestyle='-',linewidth=2)\n",
        "plt.plot(lsum[:Nlambdas],c='k', linestyle='--',linewidth=2)\n",
        "\n",
        "plt.legend([\"Bias\",\"Variance\",\"Noise\",\"Test error\",\"Bias+Var+Noise\"]);\n",
        "plt.xlabel(\"Regularization $\\lambda=2^x$\",fontsize=18);\n",
        "plt.ylabel(\"Squared Error\",fontsize=18);\n",
        "plt.xticks([i for i in range(Nlambdas)],lmbdas);"
      ]
    }
  ]
}