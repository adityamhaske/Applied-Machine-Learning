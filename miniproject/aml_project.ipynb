{
 "cells": [
  {
   "cell_type": "code",
   "execution_count": 1,
   "id": "1767a4a7",
   "metadata": {},
   "outputs": [],
   "source": [
    "import sys"
   ]
  },
  {
   "cell_type": "code",
   "execution_count": 10,
   "id": "79ac45de",
   "metadata": {},
   "outputs": [],
   "source": [
    "import numpy as np\n",
    "import pandas as pd\n",
    "\n",
    "from sklearn.neighbors import KNeighborsClassifier\n",
    "from sklearn.preprocessing import StandardScaler\n",
    "import tensorflow as tf\n",
    "import librosa\n",
    "\n",
    "from tensorflow import keras\n",
    "from __future__ import absolute_import, division, print_function\n",
    "from tensorflow.keras import layers\n",
    "from tensorflow.keras.models import Sequential\n",
    "\n",
    "#Libraries helping with file retrival\n",
    "import os\n",
    "from os import listdir\n",
    "from os.path import isfile, join\n",
    "\n",
    "#Visualization and data manipulation libraries\n",
    "import matplotlib.pyplot as plt\n",
    "import scipy.io\n",
    "import seaborn as sns\n",
    "\n",
    "#to save trained models\n",
    "import joblib\n",
    "import json"
   ]
  },
  {
   "cell_type": "code",
   "execution_count": 19,
   "id": "9f16f836",
   "metadata": {},
   "outputs": [],
   "source": [
    "import random                        # for generating random numbers\n",
    "from keras.preprocessing.image import ImageDataGenerator\n",
    "from keras.layers import Conv2D, MaxPooling2D, ZeroPadding2D, GlobalAveragePooling2D, Flatten\n",
    "from tensorflow.keras.layers import BatchNormalization\n",
    "from keras.models import Sequential  # Model type to be used\n",
    "from keras.layers.core import Dense, Dropout, Activation # Types of layers to be used in our model\n",
    "from keras.utils import np_utils\n",
    "from sklearn.model_selection import train_test_split\n",
    "import warnings\n",
    "warnings.filterwarnings('ignore')\n",
    "# Input data files are available in the read-only \"../input/\" directory\n",
    "# For example, running this (by clicking run or pressing Shift+Enter) will list all files under the input directory\n",
    "\n",
    "import os\n",
    "for dirname, _, filenames in os.walk('/kaggle/input'):\n",
    "    for filename in filenames:\n",
    "        print(os.path.join(dirname, filename))"
   ]
  },
  {
   "cell_type": "code",
   "execution_count": 11,
   "id": "4173e8b4",
   "metadata": {},
   "outputs": [],
   "source": [
    "df = pd.read_pickle('train.pkl')\n",
    "train_data = df['data'].values\n",
    "train_target = df['target'].values"
   ]
  },
  {
   "cell_type": "code",
   "execution_count": 12,
   "id": "47fe1fde",
   "metadata": {},
   "outputs": [],
   "source": [
    "df = pd.read_pickle('test.pkl')  # test set path\n",
    "test_data = df['data'].values"
   ]
  },
  {
   "cell_type": "code",
   "execution_count": 5,
   "id": "134cb3f9",
   "metadata": {},
   "outputs": [
    {
     "data": {
      "image/png": "[encoded data removed]",
      "text/plain": [
       "<Figure size 640x480 with 2 Axes>"
      ]
     },
     "metadata": {},
     "output_type": "display_data"
    }
   ],
   "source": [
    "plt.figure()\n",
    "plt.imshow(train_data[13])\n",
    "plt.colorbar()\n",
    "plt.grid(False)\n",
    "plt.show()"
   ]
  },
  {
   "cell_type": "code",
   "execution_count": 38,
   "id": "58f526b0",
   "metadata": {},
   "outputs": [],
   "source": [
    "\n",
    "\n",
    "model = keras.Sequential([\n",
    "    keras.layers.Rescaling(1./255, input_shape=(28, 28, 1)),\n",
    "    keras.layers.Conv2D(32,(3,3),input_shape=(28,28,1),activation='relu'),\n",
    "    keras.layers.BatchNormalization(axis=-1),\n",
    "    keras.layers.Conv2D(32,(3,3),activation='relu'),\n",
    "    keras.layers.BatchNormalization(axis=-1),\n",
    "    keras.layers.MaxPooling2D(pool_size=(2,2)),\n",
    "    keras.layers.Conv2D(64,(3,3),activation='relu'),\n",
    "    keras.layers.BatchNormalization(axis=-1),\n",
    "    keras.layers.Conv2D(64,(3,3),activation='relu'),\n",
    "    keras.layers.BatchNormalization(axis=-1),\n",
    "    keras.layers.MaxPooling2D(pool_size=(2,2)),\n",
    "    keras.layers.Flatten(),\n",
    "    keras.layers.Dense(512),\n",
    "    keras.layers.BatchNormalization(),\n",
    "    keras.layers.Activation('relu'),\n",
    "    keras.layers.Dropout(0.2),\n",
    "    keras.layers.Dense(100),\n",
    "    keras.layers.Dense(100,activation=tf.nn.softmax)\n",
    "])"
   ]
  },
  {
   "cell_type": "code",
   "execution_count": 39,
   "id": "43b33c28",
   "metadata": {},
   "outputs": [],
   "source": [
    "model.compile(optimizer='adam',\n",
    "              loss='sparse_categorical_crossentropy',\n",
    "              metrics=['accuracy'])"
   ]
  },
  {
   "cell_type": "code",
   "execution_count": 40,
   "id": "70eb8838",
   "metadata": {},
   "outputs": [],
   "source": [
    "train_data = np.array([np.array(val) for val in train_data])\n",
    "# train_data = train_data / 255.0"
   ]
  },
  {
   "cell_type": "code",
   "execution_count": 41,
   "id": "858911bf",
   "metadata": {},
   "outputs": [
    {
     "name": "stdout",
     "output_type": "stream",
     "text": [
      "Epoch 1/10\n"
     ]
    },
    {
     "name": "stderr",
     "output_type": "stream",
     "text": [
      "2022-12-03 22:50:25.194574: I tensorflow/core/grappler/optimizers/custom_graph_optimizer_registry.cc:114] Plugin optimizer for device_type GPU is enabled.\n"
     ]
    },
    {
     "name": "stdout",
     "output_type": "stream",
     "text": [
      "15625/15625 [==============================] - 244s 16ms/step - loss: 1.6354 - accuracy: 0.5826\n",
      "Epoch 2/10\n",
      "15625/15625 [==============================] - 242s 15ms/step - loss: 1.2722 - accuracy: 0.6666\n",
      "Epoch 3/10\n",
      "15625/15625 [==============================] - 244s 16ms/step - loss: 1.1730 - accuracy: 0.6899\n",
      "Epoch 4/10\n",
      "15625/15625 [==============================] - 243s 16ms/step - loss: 1.1150 - accuracy: 0.7034\n",
      "Epoch 5/10\n",
      "15625/15625 [==============================] - 244s 16ms/step - loss: 1.0725 - accuracy: 0.7140\n",
      "Epoch 6/10\n",
      "15625/15625 [==============================] - 251s 16ms/step - loss: 1.0361 - accuracy: 0.7221\n",
      "Epoch 7/10\n",
      "15625/15625 [==============================] - 256s 16ms/step - loss: 1.0072 - accuracy: 0.7286\n",
      "Epoch 8/10\n",
      "15625/15625 [==============================] - 244s 16ms/step - loss: 0.9824 - accuracy: 0.7341\n",
      "Epoch 9/10\n",
      "15625/15625 [==============================] - 243s 16ms/step - loss: 0.9612 - accuracy: 0.7388\n",
      "Epoch 10/10\n",
      "15625/15625 [==============================] - 248s 16ms/step - loss: 0.9425 - accuracy: 0.7429\n"
     ]
    },
    {
     "data": {
      "text/plain": [
       "<keras.callbacks.History at 0x2c37bd910>"
      ]
     },
     "execution_count": 41,
     "metadata": {},
     "output_type": "execute_result"
    }
   ],
   "source": [
    "model.fit(train_data, train_target, epochs=10)"
   ]
  },
  {
   "cell_type": "code",
   "execution_count": 42,
   "id": "71c34c99",
   "metadata": {},
   "outputs": [
    {
     "name": "stdout",
     "output_type": "stream",
     "text": [
      "Epoch 1/10\n",
      "15625/15625 [==============================] - 243s 16ms/step - loss: 0.9249 - accuracy: 0.7470\n",
      "Epoch 2/10\n",
      "15625/15625 [==============================] - 247s 16ms/step - loss: 0.9096 - accuracy: 0.7502\n",
      "Epoch 3/10\n",
      "15625/15625 [==============================] - 246s 16ms/step - loss: 0.8962 - accuracy: 0.7530\n",
      "Epoch 4/10\n",
      "15625/15625 [==============================] - 263s 17ms/step - loss: 0.8818 - accuracy: 0.7562\n",
      "Epoch 5/10\n",
      "15625/15625 [==============================] - 252s 16ms/step - loss: 0.8697 - accuracy: 0.7591\n",
      "Epoch 6/10\n",
      "15625/15625 [==============================] - 249s 16ms/step - loss: 0.8590 - accuracy: 0.7604\n",
      "Epoch 7/10\n",
      "15625/15625 [==============================] - 239s 15ms/step - loss: 0.8471 - accuracy: 0.7638\n",
      "Epoch 8/10\n",
      "15625/15625 [==============================] - 254s 16ms/step - loss: 0.8378 - accuracy: 0.7666\n",
      "Epoch 9/10\n",
      "15625/15625 [==============================] - 251s 16ms/step - loss: 0.8300 - accuracy: 0.7678\n",
      "Epoch 10/10\n",
      "15625/15625 [==============================] - 258s 16ms/step - loss: 0.8187 - accuracy: 0.7708\n"
     ]
    },
    {
     "data": {
      "text/plain": [
       "<keras.callbacks.History at 0x2d516bb20>"
      ]
     },
     "execution_count": 42,
     "metadata": {},
     "output_type": "execute_result"
    }
   ],
   "source": [
    "model.fit(train_data, train_target, epochs=10)"
   ]
  },
  {
   "cell_type": "code",
   "execution_count": 43,
   "id": "6bf16e6d",
   "metadata": {},
   "outputs": [
    {
     "name": "stdout",
     "output_type": "stream",
     "text": [
      "Epoch 1/10\n",
      "15625/15625 [==============================] - 253s 16ms/step - loss: 0.8117 - accuracy: 0.7714\n",
      "Epoch 2/10\n",
      "15625/15625 [==============================] - 248s 16ms/step - loss: 0.8034 - accuracy: 0.7735\n",
      "Epoch 3/10\n",
      "15625/15625 [==============================] - 260s 17ms/step - loss: 0.7939 - accuracy: 0.7757\n",
      "Epoch 4/10\n",
      "15625/15625 [==============================] - 255s 16ms/step - loss: 0.7889 - accuracy: 0.7765\n",
      "Epoch 5/10\n",
      "15625/15625 [==============================] - 245s 16ms/step - loss: 0.7811 - accuracy: 0.7786\n",
      "Epoch 6/10\n",
      "15625/15625 [==============================] - 240s 15ms/step - loss: 0.7747 - accuracy: 0.7802\n",
      "Epoch 7/10\n",
      "15625/15625 [==============================] - 242s 15ms/step - loss: 0.7691 - accuracy: 0.7814\n",
      "Epoch 8/10\n",
      "15625/15625 [==============================] - 241s 15ms/step - loss: 0.7615 - accuracy: 0.7823\n",
      "Epoch 9/10\n",
      "15625/15625 [==============================] - 241s 15ms/step - loss: 0.7572 - accuracy: 0.7829\n",
      "Epoch 10/10\n",
      "15625/15625 [==============================] - 241s 15ms/step - loss: 0.7507 - accuracy: 0.7847\n"
     ]
    },
    {
     "data": {
      "text/plain": [
       "<keras.callbacks.History at 0x2be58b5b0>"
      ]
     },
     "execution_count": 43,
     "metadata": {},
     "output_type": "execute_result"
    }
   ],
   "source": [
    "model.fit(train_data, train_target, epochs=10)"
   ]
  },
  {
   "cell_type": "code",
   "execution_count": null,
   "id": "c33c031f",
   "metadata": {},
   "outputs": [],
   "source": []
  }
 ],
 "metadata": {
  "kernelspec": {
   "display_name": "Python 3.9 (tensorflow)",
   "language": "python",
   "name": "tensorflow"
  },
  "language_info": {
   "codemirror_mode": {
    "name": "ipython",
    "version": 3
   },
   "file_extension": ".py",
   "mimetype": "text/x-python",
   "name": "python",
   "nbconvert_exporter": "python",
   "pygments_lexer": "ipython3",
   "version": "3.8.15"
  }
 },
 "nbformat": 4,
 "nbformat_minor": 5
}
