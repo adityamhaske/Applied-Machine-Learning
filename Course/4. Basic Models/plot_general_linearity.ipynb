{
  "cells": [
    {
      "cell_type": "code",
      "execution_count": null,
      "metadata": {
        "id": "sSmE23P-vDc3"
      },
      "outputs": [],
      "source": [
        "%matplotlib inline"
      ]
    },
    {
      "cell_type": "markdown",
      "source": [
        "The following examples are based on data and examples provided by various Python packages, like sklearn, et."
      ],
      "metadata": {
        "id": "CjOgzXJgAWwP"
      }
    },
    {
      "cell_type": "markdown",
      "metadata": {
        "id": "NucwSSqIvDc6"
      },
      "source": [
        "\n",
        "# Linear Regression Example\n",
        "The example below uses only the first feature of the `diabetes` dataset,\n",
        "in order to illustrate the data points within the two-dimensional plot.\n",
        "The straight line can be seen in the plot, showing how linear regression\n",
        "attempts to draw a straight line that will best minimize the\n",
        "residual sum of squares between the observed responses in the dataset,\n",
        "and the responses predicted by the linear approximation.\n",
        "\n",
        "The coefficients, residual sum of squares and the coefficient of\n",
        "determination are also calculated.\n"
      ]
    },
    {
      "cell_type": "code",
      "execution_count": 9,
      "metadata": {
        "id": "3Rg2b4QPvDc8",
        "outputId": "a1c02e8b-b5ab-4486-cd4b-38886a20eff5",
        "colab": {
          "base_uri": "https://localhost:8080/",
          "height": 268
        }
      },
      "outputs": [
        {
          "output_type": "display_data",
          "data": {
            "text/plain": [
              "<Figure size 432x288 with 1 Axes>"
            ],
            "image/png": "[encoded data removed]"
          },
          "metadata": {}
        }
      ],
      "source": [
        "%matplotlib inline\n",
        "import matplotlib.pyplot as plt\n",
        "import seaborn as sns; sns.set()\n",
        "import numpy as np\n",
        "\n",
        "rng = np.random.RandomState(1)\n",
        "x = 10 * rng.rand(50)\n",
        "y = 2 * x - 5 + rng.randn(50)\n",
        "plt.scatter(x, y);"
      ]
    },
    {
      "cell_type": "code",
      "source": [
        "from sklearn.linear_model import LinearRegression\n",
        "model = LinearRegression(fit_intercept=True)\n",
        "\n",
        "model.fit(x[:, np.newaxis], y)\n",
        "\n",
        "xfit = np.linspace(0, 10, 1000)\n",
        "yfit = model.predict(xfit[:, np.newaxis])\n",
        "\n",
        "plt.scatter(x, y)\n",
        "plt.plot(xfit, yfit);"
      ],
      "metadata": {
        "colab": {
          "base_uri": "https://localhost:8080/",
          "height": 268
        },
        "id": "VkxsdtV7_eNW",
        "outputId": "40e6596a-0ae6-4624-f55d-7d8e19ce5468"
      },
      "execution_count": 10,
      "outputs": [
        {
          "output_type": "display_data",
          "data": {
            "text/plain": [
              "<Figure size 432x288 with 1 Axes>"
            ],
            "image/png": "[encoded data removed]"
          },
          "metadata": {}
        }
      ]
    },
    {
      "cell_type": "code",
      "source": [
        "print(\"Model slope:    \", model.coef_[0])\n",
        "print(\"Model intercept:\", model.intercept_)"
      ],
      "metadata": {
        "colab": {
          "base_uri": "https://localhost:8080/"
        },
        "id": "QR3ZohVx_h2L",
        "outputId": "ae9d988f-0d58-48f3-9d46-9a46b799ec4d"
      },
      "execution_count": 11,
      "outputs": [
        {
          "output_type": "stream",
          "name": "stdout",
          "text": [
            "Model slope:     2.0272088103606953\n",
            "Model intercept: -4.998577085553204\n"
          ]
        }
      ]
    },
    {
      "cell_type": "markdown",
      "source": [
        "The multidimensional nature of such regressions makes them more difficult to visualize, but we can see one of these fits in action by building some example data, using NumPy's matrix multiplication operator:"
      ],
      "metadata": {
        "id": "dMzk7fFz_yQ3"
      }
    },
    {
      "cell_type": "code",
      "source": [
        "rng = np.random.RandomState(1)\n",
        "X = 10 * rng.rand(100, 3)\n",
        "y = 0.5 + np.dot(X, [1.5, -2., 1.])\n",
        "\n",
        "model.fit(X, y)\n",
        "print(model.intercept_)\n",
        "print(model.coef_)"
      ],
      "metadata": {
        "colab": {
          "base_uri": "https://localhost:8080/"
        },
        "id": "S9V2SKes_uDy",
        "outputId": "aa66a9f6-39f3-4d36-a930-d55490ad7919"
      },
      "execution_count": 12,
      "outputs": [
        {
          "output_type": "stream",
          "name": "stdout",
          "text": [
            "0.5000000000000056\n",
            "[ 1.5 -2.   1. ]\n"
          ]
        }
      ]
    },
    {
      "cell_type": "markdown",
      "source": [
        "# General Regression Model with Nonlinearity"
      ],
      "metadata": {
        "id": "0Oulp2ZaxNLK"
      }
    },
    {
      "cell_type": "markdown",
      "source": [
        "We can use the least squares method and obtain the optimal parameters for our model, so fitting linear models is not a hard work.\n",
        "Python provides a bunch of libraries like scipy, scikit-learn, numpy, statsmodels, etc. to help you fitting a linear model. However, with pure linear models, not all problems can be solved."
      ],
      "metadata": {
        "id": "44X3_vDZ0goJ"
      }
    },
    {
      "cell_type": "markdown",
      "source": [
        "Before we fit any nonlinear-basis model, it’s important to note the context about why and when would you use these types of models. Of course, Python provides packages like XGBoost, LightGBM, Random Forest, Neural Network, etc. for complex machine learning model, but general linear model is not just a substitute."
      ],
      "metadata": {
        "id": "zmGYZsge19OW"
      }
    },
    {
      "cell_type": "markdown",
      "source": [
        "But here what we mean 'nonlinear' only refers to basis functions, and the model is still near on parameters. If a model is nonlinear on parameter, this is beyond our topics."
      ],
      "metadata": {
        "id": "h6fZJokX7iTY"
      }
    },
    {
      "cell_type": "markdown",
      "source": [
        "For illustration purpose, the following code only start with one-dimension data x, and you can easily adopt to multi-dimensional input."
      ],
      "metadata": {
        "id": "BGIWy2uB-Epy"
      }
    },
    {
      "cell_type": "markdown",
      "source": [
        "**Polynomial basis functions**"
      ],
      "metadata": {
        "id": "M5-3VC_s94T6"
      }
    },
    {
      "cell_type": "code",
      "source": [
        "from sklearn.preprocessing import PolynomialFeatures\n",
        "x = np.array([2, 3, 4])\n",
        "poly = PolynomialFeatures(3, include_bias=False)\n",
        "poly.fit_transform(x[:, None])"
      ],
      "metadata": {
        "colab": {
          "base_uri": "https://localhost:8080/"
        },
        "id": "H1WmgkMDy-1Y",
        "outputId": "ea4def7e-63af-4668-9735-06e1916d46d9"
      },
      "execution_count": 13,
      "outputs": [
        {
          "output_type": "execute_result",
          "data": {
            "text/plain": [
              "array([[ 2.,  4.,  8.],\n",
              "       [ 3.,  9., 27.],\n",
              "       [ 4., 16., 64.]])"
            ]
          },
          "metadata": {},
          "execution_count": 13
        }
      ]
    },
    {
      "cell_type": "markdown",
      "source": [
        "We see here that the transformer has converted our one-dimensional array into a three-dimensional array by taking the exponent of each value. This new, higher-dimensional data representation can then be plugged into a linear regression."
      ],
      "metadata": {
        "id": "6PRGZYWO-lG2"
      }
    },
    {
      "cell_type": "code",
      "source": [
        "from sklearn.pipeline import make_pipeline\n",
        "from sklearn.linear_model import LinearRegression\n",
        "poly_model = make_pipeline(PolynomialFeatures(7),LinearRegression())"
      ],
      "metadata": {
        "id": "3LT8V9r5-nrO"
      },
      "execution_count": 14,
      "outputs": []
    },
    {
      "cell_type": "code",
      "source": [
        "rng = np.random.RandomState(1)\n",
        "x = 10 * rng.rand(50)\n",
        "y = np.sin(x) + 0.1 * rng.randn(50)\n",
        "\n",
        "poly_model.fit(x[:, np.newaxis], y)\n",
        "yfit = poly_model.predict(xfit[:, np.newaxis])\n",
        "\n",
        "plt.scatter(x, y)\n",
        "plt.plot(xfit, yfit);"
      ],
      "metadata": {
        "colab": {
          "base_uri": "https://localhost:8080/",
          "height": 268
        },
        "id": "-dT765tg-82m",
        "outputId": "adc759c6-8be7-46e3-9317-71f46c4dca3b"
      },
      "execution_count": 15,
      "outputs": [
        {
          "output_type": "display_data",
          "data": {
            "text/plain": [
              "<Figure size 432x288 with 1 Axes>"
            ],
            "image/png": "[encoded data removed]"
          },
          "metadata": {}
        }
      ]
    },
    {
      "cell_type": "markdown",
      "source": [
        "**Gaussian basis functions**"
      ],
      "metadata": {
        "id": "OAa0Tj7oAK8n"
      }
    },
    {
      "cell_type": "markdown",
      "source": [
        "Of course, other basis functions are possible. For example, one useful pattern is to fit a model that is not a sum of polynomial bases, but a sum of Gaussian bases. "
      ],
      "metadata": {
        "id": "vsu2-lGnADlk"
      }
    },
    {
      "cell_type": "code",
      "source": [
        "from sklearn.base import BaseEstimator, TransformerMixin\n",
        "\n",
        "class GaussianFeatures(BaseEstimator, TransformerMixin):\n",
        "    \"\"\"Uniformly spaced Gaussian features for one-dimensional input\"\"\"\n",
        "    \n",
        "    def __init__(self, N, width_factor=2.0):\n",
        "        self.N = N\n",
        "        self.width_factor = width_factor\n",
        "    \n",
        "    @staticmethod\n",
        "    def _gauss_basis(x, y, width, axis=None):\n",
        "        arg = (x - y) / width\n",
        "        return np.exp(-0.5 * np.sum(arg ** 2, axis))\n",
        "        \n",
        "    def fit(self, X, y=None):\n",
        "        # create N centers spread along the data range\n",
        "        self.centers_ = np.linspace(X.min(), X.max(), self.N)\n",
        "        self.width_ = self.width_factor * (self.centers_[1] - self.centers_[0])\n",
        "        return self\n",
        "        \n",
        "    def transform(self, X):\n",
        "        return self._gauss_basis(X[:, :, np.newaxis], self.centers_,\n",
        "                                 self.width_, axis=1)\n",
        "    \n",
        "gauss_model = make_pipeline(GaussianFeatures(20),\n",
        "                            LinearRegression())\n",
        "gauss_model.fit(x[:, np.newaxis], y)\n",
        "yfit = gauss_model.predict(xfit[:, np.newaxis])\n",
        "\n",
        "plt.scatter(x, y)\n",
        "plt.plot(xfit, yfit)\n",
        "plt.xlim(0, 10);"
      ],
      "metadata": {
        "colab": {
          "base_uri": "https://localhost:8080/",
          "height": 268
        },
        "id": "BlNToeG4AA9_",
        "outputId": "518d6006-4dd7-464c-882f-d9c06c21a49b"
      },
      "execution_count": 16,
      "outputs": [
        {
          "output_type": "display_data",
          "data": {
            "text/plain": [
              "<Figure size 432x288 with 1 Axes>"
            ],
            "image/png": "[encoded data removed]"
          },
          "metadata": {}
        }
      ]
    }
  ],
  "metadata": {
    "kernelspec": {
      "display_name": "Python 3",
      "language": "python",
      "name": "python3"
    },
    "language_info": {
      "codemirror_mode": {
        "name": "ipython",
        "version": 3
      },
      "file_extension": ".py",
      "mimetype": "text/x-python",
      "name": "python",
      "nbconvert_exporter": "python",
      "pygments_lexer": "ipython3",
      "version": "3.9.13"
    },
    "colab": {
      "provenance": []
    }
  },
  "nbformat": 4,
  "nbformat_minor": 0
}